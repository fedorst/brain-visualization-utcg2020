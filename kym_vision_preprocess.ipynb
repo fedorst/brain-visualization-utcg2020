{
  "nbformat": 4,
  "nbformat_minor": 0,
  "metadata": {
    "colab": {
      "name": "kym_vision_preprocess.ipynb",
      "provenance": [],
      "collapsed_sections": [],
      "include_colab_link": true
    },
    "kernelspec": {
      "name": "python3",
      "display_name": "Python 3"
    },
    "language_info": {
      "name": "python"
    }
  },
  "cells": [
    {
      "cell_type": "markdown",
      "metadata": {
        "id": "view-in-github",
        "colab_type": "text"
      },
      "source": [
        "<a href=\"https://colab.research.google.com/github/fedorst/brain-visualization-utcg2020/blob/main/kym_vision_preprocess.ipynb\" target=\"_parent\"><img src=\"https://colab.research.google.com/assets/colab-badge.svg\" alt=\"Open In Colab\"/></a>"
      ]
    },
    {
      "cell_type": "code",
      "metadata": {
        "id": "TpngxayLnZ64"
      },
      "source": [
        "import pandas as pd\n",
        "import numpy as np\n",
        "import matplotlib.pyplot as plt\n",
        "import json"
      ],
      "execution_count": null,
      "outputs": []
    },
    {
      "cell_type": "code",
      "metadata": {
        "id": "uayK4X2In6k9"
      },
      "source": [
        "path = \"/content/drive/My Drive/dataEngProject/kym_vision.json\""
      ],
      "execution_count": null,
      "outputs": []
    },
    {
      "cell_type": "code",
      "metadata": {
        "id": "yN0U3byh17uF"
      },
      "source": [
        "from google.colab import drive\n",
        "drive.mount('/content/drive')"
      ],
      "execution_count": null,
      "outputs": []
    },
    {
      "cell_type": "code",
      "metadata": {
        "id": "gnuj1pRfofSq"
      },
      "source": [
        "df = pd.read_json(path, orient=\"index\")"
      ],
      "execution_count": null,
      "outputs": []
    },
    {
      "cell_type": "code",
      "metadata": {
        "colab": {
          "base_uri": "https://localhost:8080/",
          "height": 206
        },
        "id": "tT-VGpbwj_Cz",
        "outputId": "5ae0f373-8e29-4a9a-c0d5-73c0d00458d1"
      },
      "source": [
        "df[\"url\"] = df.index\n",
        "df = df.reset_index()\n",
        "df = df.drop(columns=[\"index\"])\n",
        "df.head()"
      ],
      "execution_count": null,
      "outputs": [
        {
          "output_type": "execute_result",
          "data": {
            "text/html": [
              "<div>\n",
              "<style scoped>\n",
              "    .dataframe tbody tr th:only-of-type {\n",
              "        vertical-align: middle;\n",
              "    }\n",
              "\n",
              "    .dataframe tbody tr th {\n",
              "        vertical-align: top;\n",
              "    }\n",
              "\n",
              "    .dataframe thead th {\n",
              "        text-align: right;\n",
              "    }\n",
              "</style>\n",
              "<table border=\"1\" class=\"dataframe\">\n",
              "  <thead>\n",
              "    <tr style=\"text-align: right;\">\n",
              "      <th></th>\n",
              "      <th>labelAnnotations</th>\n",
              "      <th>safeSearchAnnotation</th>\n",
              "      <th>webDetection</th>\n",
              "      <th>error</th>\n",
              "      <th>url</th>\n",
              "    </tr>\n",
              "  </thead>\n",
              "  <tbody>\n",
              "    <tr>\n",
              "      <th>0</th>\n",
              "      <td>[{'mid': '/m/01yrx', 'description': 'Cat', 'sc...</td>\n",
              "      <td>{'adult': 'VERY_UNLIKELY', 'spoof': 'VERY_LIKE...</td>\n",
              "      <td>{'webEntities': [{'entityId': '/m/04wpw', 'sco...</td>\n",
              "      <td>NaN</td>\n",
              "      <td>https://knowyourmeme.com/memes/this-is-relevan...</td>\n",
              "    </tr>\n",
              "    <tr>\n",
              "      <th>1</th>\n",
              "      <td>[{'mid': '/m/0dzct', 'description': 'Face', 's...</td>\n",
              "      <td>{'adult': 'UNLIKELY', 'spoof': 'LIKELY', 'medi...</td>\n",
              "      <td>{'webEntities': [{'entityId': '/m/03bzkh4', 's...</td>\n",
              "      <td>NaN</td>\n",
              "      <td>https://knowyourmeme.com/memes/leave-britney-a...</td>\n",
              "    </tr>\n",
              "    <tr>\n",
              "      <th>2</th>\n",
              "      <td>[{'mid': '/m/068jd', 'description': 'Photograp...</td>\n",
              "      <td>{'adult': 'UNLIKELY', 'spoof': 'VERY_LIKELY', ...</td>\n",
              "      <td>{'webEntities': [{'entityId': '/m/09dzg', 'sco...</td>\n",
              "      <td>NaN</td>\n",
              "      <td>https://knowyourmeme.com/memes/i-like-turtles</td>\n",
              "    </tr>\n",
              "    <tr>\n",
              "      <th>3</th>\n",
              "      <td>[{'mid': '/m/09j2d', 'description': 'Clothing'...</td>\n",
              "      <td>{'adult': 'VERY_UNLIKELY', 'spoof': 'VERY_LIKE...</td>\n",
              "      <td>{'webEntities': [{'entityId': '/m/09kqc', 'sco...</td>\n",
              "      <td>NaN</td>\n",
              "      <td>https://knowyourmeme.com/memes/bitches-dont-know</td>\n",
              "    </tr>\n",
              "    <tr>\n",
              "      <th>4</th>\n",
              "      <td>[{'mid': '/m/04hgtk', 'description': 'Head', '...</td>\n",
              "      <td>{'adult': 'VERY_UNLIKELY', 'spoof': 'VERY_LIKE...</td>\n",
              "      <td>{'webEntities': [{'entityId': '/m/06ng23', 'sc...</td>\n",
              "      <td>NaN</td>\n",
              "      <td>https://knowyourmeme.com/memes/o-rly</td>\n",
              "    </tr>\n",
              "  </tbody>\n",
              "</table>\n",
              "</div>"
            ],
            "text/plain": [
              "                                    labelAnnotations  ...                                                url\n",
              "0  [{'mid': '/m/01yrx', 'description': 'Cat', 'sc...  ...  https://knowyourmeme.com/memes/this-is-relevan...\n",
              "1  [{'mid': '/m/0dzct', 'description': 'Face', 's...  ...  https://knowyourmeme.com/memes/leave-britney-a...\n",
              "2  [{'mid': '/m/068jd', 'description': 'Photograp...  ...      https://knowyourmeme.com/memes/i-like-turtles\n",
              "3  [{'mid': '/m/09j2d', 'description': 'Clothing'...  ...   https://knowyourmeme.com/memes/bitches-dont-know\n",
              "4  [{'mid': '/m/04hgtk', 'description': 'Head', '...  ...               https://knowyourmeme.com/memes/o-rly\n",
              "\n",
              "[5 rows x 5 columns]"
            ]
          },
          "metadata": {},
          "execution_count": 6
        }
      ]
    },
    {
      "cell_type": "code",
      "metadata": {
        "id": "NlATEVq-oirE"
      },
      "source": [
        "safeSearchToNumberCode = {\n",
        "    \"VERY_UNLIKELY\": 0.0,\n",
        "    \"UNLIKELY\": 0.25,\n",
        "    \"POSSIBLE\": 0.5,\n",
        "    \"LIKELY\": 0.75,\n",
        "    \"VERY_LIKELY\": 1.0\n",
        "}\n",
        "def getSafeSearch(row):\n",
        "  if (isinstance(row.safeSearchAnnotation, dict)):\n",
        "    for key in row.safeSearchAnnotation.keys():\n",
        "      row[\"safeSearch_\"+key] = safeSearchToNumberCode[row.safeSearchAnnotation[key]]\n",
        "  return row"
      ],
      "execution_count": null,
      "outputs": []
    },
    {
      "cell_type": "code",
      "metadata": {
        "id": "Vx3abOWJrMQx"
      },
      "source": [
        "df = df.apply(getSafeSearch, axis=1)\n",
        "df = df.drop(columns=[\"safeSearchAnnotation\"])"
      ],
      "execution_count": null,
      "outputs": []
    },
    {
      "cell_type": "code",
      "metadata": {
        "colab": {
          "base_uri": "https://localhost:8080/",
          "height": 206
        },
        "id": "Dl0GTWPX15pq",
        "outputId": "dc3eabde-af4d-44aa-d012-5ee9cf22f435"
      },
      "source": [
        "df.head()"
      ],
      "execution_count": null,
      "outputs": [
        {
          "output_type": "execute_result",
          "data": {
            "text/html": [
              "<div>\n",
              "<style scoped>\n",
              "    .dataframe tbody tr th:only-of-type {\n",
              "        vertical-align: middle;\n",
              "    }\n",
              "\n",
              "    .dataframe tbody tr th {\n",
              "        vertical-align: top;\n",
              "    }\n",
              "\n",
              "    .dataframe thead th {\n",
              "        text-align: right;\n",
              "    }\n",
              "</style>\n",
              "<table border=\"1\" class=\"dataframe\">\n",
              "  <thead>\n",
              "    <tr style=\"text-align: right;\">\n",
              "      <th></th>\n",
              "      <th>error</th>\n",
              "      <th>labelAnnotations</th>\n",
              "      <th>safeSearch_adult</th>\n",
              "      <th>safeSearch_medical</th>\n",
              "      <th>safeSearch_racy</th>\n",
              "      <th>safeSearch_spoof</th>\n",
              "      <th>safeSearch_violence</th>\n",
              "      <th>url</th>\n",
              "      <th>webDetection</th>\n",
              "    </tr>\n",
              "  </thead>\n",
              "  <tbody>\n",
              "    <tr>\n",
              "      <th>0</th>\n",
              "      <td>NaN</td>\n",
              "      <td>[{'mid': '/m/01yrx', 'description': 'Cat', 'sc...</td>\n",
              "      <td>0.00</td>\n",
              "      <td>0.00</td>\n",
              "      <td>0.00</td>\n",
              "      <td>1.00</td>\n",
              "      <td>0.25</td>\n",
              "      <td>https://knowyourmeme.com/memes/this-is-relevan...</td>\n",
              "      <td>{'webEntities': [{'entityId': '/m/04wpw', 'sco...</td>\n",
              "    </tr>\n",
              "    <tr>\n",
              "      <th>1</th>\n",
              "      <td>NaN</td>\n",
              "      <td>[{'mid': '/m/0dzct', 'description': 'Face', 's...</td>\n",
              "      <td>0.25</td>\n",
              "      <td>0.25</td>\n",
              "      <td>0.25</td>\n",
              "      <td>0.75</td>\n",
              "      <td>0.25</td>\n",
              "      <td>https://knowyourmeme.com/memes/leave-britney-a...</td>\n",
              "      <td>{'webEntities': [{'entityId': '/m/03bzkh4', 's...</td>\n",
              "    </tr>\n",
              "    <tr>\n",
              "      <th>2</th>\n",
              "      <td>NaN</td>\n",
              "      <td>[{'mid': '/m/068jd', 'description': 'Photograp...</td>\n",
              "      <td>0.25</td>\n",
              "      <td>0.25</td>\n",
              "      <td>0.00</td>\n",
              "      <td>1.00</td>\n",
              "      <td>0.25</td>\n",
              "      <td>https://knowyourmeme.com/memes/i-like-turtles</td>\n",
              "      <td>{'webEntities': [{'entityId': '/m/09dzg', 'sco...</td>\n",
              "    </tr>\n",
              "    <tr>\n",
              "      <th>3</th>\n",
              "      <td>NaN</td>\n",
              "      <td>[{'mid': '/m/09j2d', 'description': 'Clothing'...</td>\n",
              "      <td>0.00</td>\n",
              "      <td>0.00</td>\n",
              "      <td>0.25</td>\n",
              "      <td>1.00</td>\n",
              "      <td>0.25</td>\n",
              "      <td>https://knowyourmeme.com/memes/bitches-dont-know</td>\n",
              "      <td>{'webEntities': [{'entityId': '/m/09kqc', 'sco...</td>\n",
              "    </tr>\n",
              "    <tr>\n",
              "      <th>4</th>\n",
              "      <td>NaN</td>\n",
              "      <td>[{'mid': '/m/04hgtk', 'description': 'Head', '...</td>\n",
              "      <td>0.00</td>\n",
              "      <td>0.25</td>\n",
              "      <td>0.00</td>\n",
              "      <td>1.00</td>\n",
              "      <td>0.50</td>\n",
              "      <td>https://knowyourmeme.com/memes/o-rly</td>\n",
              "      <td>{'webEntities': [{'entityId': '/m/06ng23', 'sc...</td>\n",
              "    </tr>\n",
              "  </tbody>\n",
              "</table>\n",
              "</div>"
            ],
            "text/plain": [
              "  error  ...                                       webDetection\n",
              "0   NaN  ...  {'webEntities': [{'entityId': '/m/04wpw', 'sco...\n",
              "1   NaN  ...  {'webEntities': [{'entityId': '/m/03bzkh4', 's...\n",
              "2   NaN  ...  {'webEntities': [{'entityId': '/m/09dzg', 'sco...\n",
              "3   NaN  ...  {'webEntities': [{'entityId': '/m/09kqc', 'sco...\n",
              "4   NaN  ...  {'webEntities': [{'entityId': '/m/06ng23', 'sc...\n",
              "\n",
              "[5 rows x 9 columns]"
            ]
          },
          "metadata": {},
          "execution_count": 9
        }
      ]
    },
    {
      "cell_type": "code",
      "metadata": {
        "colab": {
          "base_uri": "https://localhost:8080/"
        },
        "id": "qr5bjlCX30PU",
        "outputId": "651ae232-8622-4f74-df3c-f13c110f2c0c"
      },
      "source": [
        "df.safeSearch_adult.value_counts()"
      ],
      "execution_count": null,
      "outputs": [
        {
          "output_type": "execute_result",
          "data": {
            "text/plain": [
              "0.00    12710\n",
              "0.25     3331\n",
              "0.50      376\n",
              "0.75      115\n",
              "1.00       39\n",
              "Name: safeSearch_adult, dtype: int64"
            ]
          },
          "metadata": {},
          "execution_count": 10
        }
      ]
    },
    {
      "cell_type": "code",
      "metadata": {
        "id": "MJ4Owrwf2Hzt"
      },
      "source": [
        "def getLabelAnnotScores(row):\n",
        "  if ((not type(row.labelAnnotations) == float) and len(row.labelAnnotations) > 0):\n",
        "    #newDict = {annot[\"description\"]: annot[\"score\"] for annot in row.labelAnnotations}\n",
        "    #row[\"annot_array\"] = list(newDict.keys())\n",
        "    row[\"annot_array\"] = [annot[\"description\"] for annot in row.labelAnnotations]\n",
        "  return row"
      ],
      "execution_count": null,
      "outputs": []
    },
    {
      "cell_type": "code",
      "metadata": {
        "id": "JOJH81_qqZqe"
      },
      "source": [
        "def getBestGuessLabel(row):\n",
        "  if ((type(row.webDetection) == dict)):\n",
        "    # and \"bestGuessLabels\" in row.webDetection and len(row.webDetection.bestGuessLabels) > 0):\n",
        "    bestGuessLabels = row.webDetection.get(\"bestGuessLabels\", [])\n",
        "    if (len(bestGuessLabels) > 0 and 'label' in bestGuessLabels[0]):\n",
        "      row[\"webDetection_bestGuessLabel\"] = bestGuessLabels[0]['label']\n",
        "  return row"
      ],
      "execution_count": null,
      "outputs": []
    },
    {
      "cell_type": "code",
      "metadata": {
        "id": "356UrQ5F7UNy"
      },
      "source": [
        "df = df.apply(getLabelAnnotScores, axis=1)\n",
        "df = df.drop(columns=\"labelAnnotations\")"
      ],
      "execution_count": null,
      "outputs": []
    },
    {
      "cell_type": "code",
      "metadata": {
        "id": "uync1_CCqxnp"
      },
      "source": [
        "df = df.apply(getBestGuessLabel, axis=1)\n",
        "df = df.drop(columns=\"webDetection\")"
      ],
      "execution_count": null,
      "outputs": []
    },
    {
      "cell_type": "code",
      "metadata": {
        "colab": {
          "base_uri": "https://localhost:8080/",
          "height": 206
        },
        "id": "-7Zegv36qRj-",
        "outputId": "95a07735-8ad8-408b-bf18-9d69ed2e9ce0"
      },
      "source": [
        "df.head()"
      ],
      "execution_count": null,
      "outputs": [
        {
          "output_type": "execute_result",
          "data": {
            "text/html": [
              "<div>\n",
              "<style scoped>\n",
              "    .dataframe tbody tr th:only-of-type {\n",
              "        vertical-align: middle;\n",
              "    }\n",
              "\n",
              "    .dataframe tbody tr th {\n",
              "        vertical-align: top;\n",
              "    }\n",
              "\n",
              "    .dataframe thead th {\n",
              "        text-align: right;\n",
              "    }\n",
              "</style>\n",
              "<table border=\"1\" class=\"dataframe\">\n",
              "  <thead>\n",
              "    <tr style=\"text-align: right;\">\n",
              "      <th></th>\n",
              "      <th>annot_array</th>\n",
              "      <th>error</th>\n",
              "      <th>safeSearch_adult</th>\n",
              "      <th>safeSearch_medical</th>\n",
              "      <th>safeSearch_racy</th>\n",
              "      <th>safeSearch_spoof</th>\n",
              "      <th>safeSearch_violence</th>\n",
              "      <th>url</th>\n",
              "      <th>webDetection_bestGuessLabel</th>\n",
              "    </tr>\n",
              "  </thead>\n",
              "  <tbody>\n",
              "    <tr>\n",
              "      <th>0</th>\n",
              "      <td>[Cat, Felidae, Carnivore, Small to medium-size...</td>\n",
              "      <td>NaN</td>\n",
              "      <td>0.00</td>\n",
              "      <td>0.00</td>\n",
              "      <td>0.00</td>\n",
              "      <td>1.00</td>\n",
              "      <td>0.25</td>\n",
              "      <td>https://knowyourmeme.com/memes/this-is-relevan...</td>\n",
              "      <td>interest meme</td>\n",
              "    </tr>\n",
              "    <tr>\n",
              "      <th>1</th>\n",
              "      <td>[Face, Forehead, Nose, Hair, Cheek, Skin, Lip,...</td>\n",
              "      <td>NaN</td>\n",
              "      <td>0.25</td>\n",
              "      <td>0.25</td>\n",
              "      <td>0.25</td>\n",
              "      <td>0.75</td>\n",
              "      <td>0.25</td>\n",
              "      <td>https://knowyourmeme.com/memes/leave-britney-a...</td>\n",
              "      <td>leave britney alone</td>\n",
              "    </tr>\n",
              "    <tr>\n",
              "      <th>2</th>\n",
              "      <td>[Photograph, Light, Smile, Screenshot, News, F...</td>\n",
              "      <td>NaN</td>\n",
              "      <td>0.25</td>\n",
              "      <td>0.25</td>\n",
              "      <td>0.00</td>\n",
              "      <td>1.00</td>\n",
              "      <td>0.25</td>\n",
              "      <td>https://knowyourmeme.com/memes/i-like-turtles</td>\n",
              "      <td>like turtles</td>\n",
              "    </tr>\n",
              "    <tr>\n",
              "      <th>3</th>\n",
              "      <td>[Clothing, Hairstyle, Shoulder, Muscle, Neck, ...</td>\n",
              "      <td>NaN</td>\n",
              "      <td>0.00</td>\n",
              "      <td>0.00</td>\n",
              "      <td>0.25</td>\n",
              "      <td>1.00</td>\n",
              "      <td>0.25</td>\n",
              "      <td>https://knowyourmeme.com/memes/bitches-dont-know</td>\n",
              "      <td>eric harris funny</td>\n",
              "    </tr>\n",
              "    <tr>\n",
              "      <th>4</th>\n",
              "      <td>[Head, Bird, Snowy owl, Eye, Beak, Feather, Ow...</td>\n",
              "      <td>NaN</td>\n",
              "      <td>0.00</td>\n",
              "      <td>0.25</td>\n",
              "      <td>0.00</td>\n",
              "      <td>1.00</td>\n",
              "      <td>0.50</td>\n",
              "      <td>https://knowyourmeme.com/memes/o-rly</td>\n",
              "      <td>o rly</td>\n",
              "    </tr>\n",
              "  </tbody>\n",
              "</table>\n",
              "</div>"
            ],
            "text/plain": [
              "                                         annot_array  ... webDetection_bestGuessLabel\n",
              "0  [Cat, Felidae, Carnivore, Small to medium-size...  ...               interest meme\n",
              "1  [Face, Forehead, Nose, Hair, Cheek, Skin, Lip,...  ...         leave britney alone\n",
              "2  [Photograph, Light, Smile, Screenshot, News, F...  ...                like turtles\n",
              "3  [Clothing, Hairstyle, Shoulder, Muscle, Neck, ...  ...           eric harris funny\n",
              "4  [Head, Bird, Snowy owl, Eye, Beak, Feather, Ow...  ...                       o rly\n",
              "\n",
              "[5 rows x 9 columns]"
            ]
          },
          "metadata": {},
          "execution_count": 15
        }
      ]
    },
    {
      "cell_type": "code",
      "metadata": {
        "id": "jfqFgrU_wunZ"
      },
      "source": [
        "df.to_parquet(\"/content/drive/My Drive/dataEngProject/kym_vision_processed.parquet\")"
      ],
      "execution_count": null,
      "outputs": []
    },
    {
      "cell_type": "code",
      "metadata": {
        "id": "GY00Bj337WMS",
        "colab": {
          "base_uri": "https://localhost:8080/"
        },
        "outputId": "ef0f7fcf-3803-427a-fda4-c9b4b179dcf8"
      },
      "source": [
        "len(df.columns)"
      ],
      "execution_count": null,
      "outputs": [
        {
          "output_type": "execute_result",
          "data": {
            "text/plain": [
              "9"
            ]
          },
          "metadata": {},
          "execution_count": 17
        }
      ]
    },
    {
      "cell_type": "code",
      "metadata": {
        "id": "b39jtErj76Tw",
        "colab": {
          "base_uri": "https://localhost:8080/"
        },
        "outputId": "d2f3ccce-d222-4c87-abd5-c985ad534924"
      },
      "source": [
        "df.shape"
      ],
      "execution_count": null,
      "outputs": [
        {
          "output_type": "execute_result",
          "data": {
            "text/plain": [
              "(16686, 9)"
            ]
          },
          "metadata": {},
          "execution_count": 18
        }
      ]
    },
    {
      "cell_type": "code",
      "metadata": {
        "id": "o1M5l-mbX8el"
      },
      "source": [
        ""
      ],
      "execution_count": null,
      "outputs": []
    }
  ]
}