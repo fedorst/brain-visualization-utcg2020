{
  "nbformat": 4,
  "nbformat_minor": 0,
  "metadata": {
    "colab": {
      "name": "kym_spotlight_preprocess.ipynb",
      "provenance": [],
      "collapsed_sections": [],
      "include_colab_link": true
    },
    "kernelspec": {
      "name": "python3",
      "display_name": "Python 3"
    },
    "language_info": {
      "name": "python"
    }
  },
  "cells": [
    {
      "cell_type": "markdown",
      "metadata": {
        "id": "view-in-github",
        "colab_type": "text"
      },
      "source": [
        "<a href=\"https://colab.research.google.com/github/fedorst/brain-visualization-utcg2020/blob/main/kym_spotlight_preprocess.ipynb\" target=\"_parent\"><img src=\"https://colab.research.google.com/assets/colab-badge.svg\" alt=\"Open In Colab\"/></a>"
      ]
    },
    {
      "cell_type": "code",
      "metadata": {
        "id": "DmJvoTN3-tOa"
      },
      "source": [
        "import pandas as pd\n",
        "import numpy as np\n",
        "import matplotlib.pyplot as plt\n",
        "import json"
      ],
      "execution_count": null,
      "outputs": []
    },
    {
      "cell_type": "code",
      "metadata": {
        "id": "IbJ6I_lc-ttt"
      },
      "source": [
        "path = \"/content/drive/My Drive/dataEngProject/kym_spotlight.json\""
      ],
      "execution_count": null,
      "outputs": []
    },
    {
      "cell_type": "code",
      "metadata": {
        "colab": {
          "base_uri": "https://localhost:8080/"
        },
        "id": "8ADJLtB3-veE",
        "outputId": "ca9e70fd-c972-46dd-afdd-4a07792ee59e"
      },
      "source": [
        "from google.colab import drive\n",
        "drive.mount('/content/drive')"
      ],
      "execution_count": null,
      "outputs": [
        {
          "output_type": "stream",
          "name": "stdout",
          "text": [
            "Mounted at /content/drive\n"
          ]
        }
      ]
    },
    {
      "cell_type": "code",
      "metadata": {
        "id": "YjjgIZwo-yPB"
      },
      "source": [
        "df = pd.read_json(path, orient=\"index\")"
      ],
      "execution_count": null,
      "outputs": []
    },
    {
      "cell_type": "code",
      "metadata": {
        "colab": {
          "base_uri": "https://localhost:8080/",
          "height": 206
        },
        "id": "U0mddRYj-5Fj",
        "outputId": "33f457d9-f77b-427d-f0d8-6689e4de30e5"
      },
      "source": [
        "df[\"url\"] = df.index\n",
        "df = df.reset_index()\n",
        "df = df.drop(columns=[\"index\"])\n",
        "df.head()"
      ],
      "execution_count": null,
      "outputs": [
        {
          "output_type": "execute_result",
          "data": {
            "text/html": [
              "<div>\n",
              "<style scoped>\n",
              "    .dataframe tbody tr th:only-of-type {\n",
              "        vertical-align: middle;\n",
              "    }\n",
              "\n",
              "    .dataframe tbody tr th {\n",
              "        vertical-align: top;\n",
              "    }\n",
              "\n",
              "    .dataframe thead th {\n",
              "        text-align: right;\n",
              "    }\n",
              "</style>\n",
              "<table border=\"1\" class=\"dataframe\">\n",
              "  <thead>\n",
              "    <tr style=\"text-align: right;\">\n",
              "      <th></th>\n",
              "      <th>@text</th>\n",
              "      <th>@confidence</th>\n",
              "      <th>@support</th>\n",
              "      <th>@types</th>\n",
              "      <th>@sparql</th>\n",
              "      <th>@policy</th>\n",
              "      <th>Resources</th>\n",
              "      <th>url</th>\n",
              "    </tr>\n",
              "  </thead>\n",
              "  <tbody>\n",
              "    <tr>\n",
              "      <th>0</th>\n",
              "      <td>\"This is Relevant To My Interests\" is an expre...</td>\n",
              "      <td>0.5</td>\n",
              "      <td>0</td>\n",
              "      <td></td>\n",
              "      <td></td>\n",
              "      <td>whitelist</td>\n",
              "      <td>[{'@URI': 'http://dbpedia.org/resource/Gene_ex...</td>\n",
              "      <td>https://knowyourmeme.com/memes/this-is-relevan...</td>\n",
              "    </tr>\n",
              "    <tr>\n",
              "      <th>1</th>\n",
              "      <td>ROFLcopter is an Internet slang term used as a...</td>\n",
              "      <td>0.5</td>\n",
              "      <td>0</td>\n",
              "      <td></td>\n",
              "      <td></td>\n",
              "      <td>whitelist</td>\n",
              "      <td>[{'@URI': 'http://dbpedia.org/resource/Interne...</td>\n",
              "      <td>https://knowyourmeme.com/memes/roflcopter</td>\n",
              "    </tr>\n",
              "    <tr>\n",
              "      <th>2</th>\n",
              "      <td>Bitches Don't Know is an exploitable image mac...</td>\n",
              "      <td>0.5</td>\n",
              "      <td>0</td>\n",
              "      <td></td>\n",
              "      <td></td>\n",
              "      <td>whitelist</td>\n",
              "      <td>[{'@URI': 'http://dbpedia.org/resource/Image_m...</td>\n",
              "      <td>https://knowyourmeme.com/memes/bitches-dont-know</td>\n",
              "    </tr>\n",
              "    <tr>\n",
              "      <th>3</th>\n",
              "      <td>\"Leave Britney Alone\" is a viral video in whic...</td>\n",
              "      <td>0.5</td>\n",
              "      <td>0</td>\n",
              "      <td></td>\n",
              "      <td></td>\n",
              "      <td>whitelist</td>\n",
              "      <td>[{'@URI': 'http://dbpedia.org/resource/Alone_(...</td>\n",
              "      <td>https://knowyourmeme.com/memes/leave-britney-a...</td>\n",
              "    </tr>\n",
              "    <tr>\n",
              "      <th>4</th>\n",
              "      <td>O RLY is internet slang for “OH REALLY?” with ...</td>\n",
              "      <td>0.5</td>\n",
              "      <td>0</td>\n",
              "      <td></td>\n",
              "      <td></td>\n",
              "      <td>whitelist</td>\n",
              "      <td>[{'@URI': 'http://dbpedia.org/resource/Interne...</td>\n",
              "      <td>https://knowyourmeme.com/memes/o-rly</td>\n",
              "    </tr>\n",
              "  </tbody>\n",
              "</table>\n",
              "</div>"
            ],
            "text/plain": [
              "                                               @text  ...                                                url\n",
              "0  \"This is Relevant To My Interests\" is an expre...  ...  https://knowyourmeme.com/memes/this-is-relevan...\n",
              "1  ROFLcopter is an Internet slang term used as a...  ...          https://knowyourmeme.com/memes/roflcopter\n",
              "2  Bitches Don't Know is an exploitable image mac...  ...   https://knowyourmeme.com/memes/bitches-dont-know\n",
              "3  \"Leave Britney Alone\" is a viral video in whic...  ...  https://knowyourmeme.com/memes/leave-britney-a...\n",
              "4  O RLY is internet slang for “OH REALLY?” with ...  ...               https://knowyourmeme.com/memes/o-rly\n",
              "\n",
              "[5 rows x 8 columns]"
            ]
          },
          "metadata": {},
          "execution_count": 5
        }
      ]
    },
    {
      "cell_type": "code",
      "metadata": {
        "colab": {
          "base_uri": "https://localhost:8080/",
          "height": 54
        },
        "id": "wilsDrJnBtFB",
        "outputId": "ec72b91a-88a2-49fc-a17f-e8cc8d131ab9"
      },
      "source": [
        "df.iloc[0][\"@text\"]"
      ],
      "execution_count": null,
      "outputs": [
        {
          "output_type": "execute_result",
          "data": {
            "application/vnd.google.colaboratory.intrinsic+json": {
              "type": "string"
            },
            "text/plain": [
              "'\"This is Relevant To My Interests\" is an expression used to convey approval and enthusiasm over a given topic. It is most commonly used on media-sharing websites in the form of text-based comments or image macros featuring photographs of concerned-looking animals.'"
            ]
          },
          "metadata": {},
          "execution_count": 6
        }
      ]
    },
    {
      "cell_type": "code",
      "metadata": {
        "id": "Tcs0cA0aCHi3"
      },
      "source": [
        "df.drop(columns=[\"@confidence\", \"@support\", \"@types\", \"@sparql\", \"@policy\"], inplace=True)"
      ],
      "execution_count": null,
      "outputs": []
    },
    {
      "cell_type": "code",
      "metadata": {
        "colab": {
          "base_uri": "https://localhost:8080/",
          "height": 206
        },
        "id": "YPtv63kPBw0I",
        "outputId": "e77618be-5735-44be-b6f4-958cfbcd9c02"
      },
      "source": [
        "df.head()"
      ],
      "execution_count": null,
      "outputs": [
        {
          "output_type": "execute_result",
          "data": {
            "text/html": [
              "<div>\n",
              "<style scoped>\n",
              "    .dataframe tbody tr th:only-of-type {\n",
              "        vertical-align: middle;\n",
              "    }\n",
              "\n",
              "    .dataframe tbody tr th {\n",
              "        vertical-align: top;\n",
              "    }\n",
              "\n",
              "    .dataframe thead th {\n",
              "        text-align: right;\n",
              "    }\n",
              "</style>\n",
              "<table border=\"1\" class=\"dataframe\">\n",
              "  <thead>\n",
              "    <tr style=\"text-align: right;\">\n",
              "      <th></th>\n",
              "      <th>@text</th>\n",
              "      <th>Resources</th>\n",
              "      <th>url</th>\n",
              "    </tr>\n",
              "  </thead>\n",
              "  <tbody>\n",
              "    <tr>\n",
              "      <th>0</th>\n",
              "      <td>\"This is Relevant To My Interests\" is an expre...</td>\n",
              "      <td>[{'@URI': 'http://dbpedia.org/resource/Gene_ex...</td>\n",
              "      <td>https://knowyourmeme.com/memes/this-is-relevan...</td>\n",
              "    </tr>\n",
              "    <tr>\n",
              "      <th>1</th>\n",
              "      <td>ROFLcopter is an Internet slang term used as a...</td>\n",
              "      <td>[{'@URI': 'http://dbpedia.org/resource/Interne...</td>\n",
              "      <td>https://knowyourmeme.com/memes/roflcopter</td>\n",
              "    </tr>\n",
              "    <tr>\n",
              "      <th>2</th>\n",
              "      <td>Bitches Don't Know is an exploitable image mac...</td>\n",
              "      <td>[{'@URI': 'http://dbpedia.org/resource/Image_m...</td>\n",
              "      <td>https://knowyourmeme.com/memes/bitches-dont-know</td>\n",
              "    </tr>\n",
              "    <tr>\n",
              "      <th>3</th>\n",
              "      <td>\"Leave Britney Alone\" is a viral video in whic...</td>\n",
              "      <td>[{'@URI': 'http://dbpedia.org/resource/Alone_(...</td>\n",
              "      <td>https://knowyourmeme.com/memes/leave-britney-a...</td>\n",
              "    </tr>\n",
              "    <tr>\n",
              "      <th>4</th>\n",
              "      <td>O RLY is internet slang for “OH REALLY?” with ...</td>\n",
              "      <td>[{'@URI': 'http://dbpedia.org/resource/Interne...</td>\n",
              "      <td>https://knowyourmeme.com/memes/o-rly</td>\n",
              "    </tr>\n",
              "  </tbody>\n",
              "</table>\n",
              "</div>"
            ],
            "text/plain": [
              "                                               @text  ...                                                url\n",
              "0  \"This is Relevant To My Interests\" is an expre...  ...  https://knowyourmeme.com/memes/this-is-relevan...\n",
              "1  ROFLcopter is an Internet slang term used as a...  ...          https://knowyourmeme.com/memes/roflcopter\n",
              "2  Bitches Don't Know is an exploitable image mac...  ...   https://knowyourmeme.com/memes/bitches-dont-know\n",
              "3  \"Leave Britney Alone\" is a viral video in whic...  ...  https://knowyourmeme.com/memes/leave-britney-a...\n",
              "4  O RLY is internet slang for “OH REALLY?” with ...  ...               https://knowyourmeme.com/memes/o-rly\n",
              "\n",
              "[5 rows x 3 columns]"
            ]
          },
          "metadata": {},
          "execution_count": 8
        }
      ]
    },
    {
      "cell_type": "code",
      "metadata": {
        "colab": {
          "base_uri": "https://localhost:8080/",
          "height": 36
        },
        "id": "eF4RLeQ0CS6C",
        "outputId": "453e148f-07bf-4373-a820-43cabf00c5f8"
      },
      "source": [
        "df.iloc[3][\"@text\"]"
      ],
      "execution_count": null,
      "outputs": [
        {
          "output_type": "execute_result",
          "data": {
            "application/vnd.google.colaboratory.intrinsic+json": {
              "type": "string"
            },
            "text/plain": [
              "'\"Leave Britney Alone\" is a viral video in which YouTube celebrity Chris Crocker cries while pleading with viewers to leave pop star Britney Spears alone.'"
            ]
          },
          "metadata": {},
          "execution_count": 9
        }
      ]
    },
    {
      "cell_type": "code",
      "metadata": {
        "colab": {
          "base_uri": "https://localhost:8080/"
        },
        "id": "Jxt_BFZ7B3Ao",
        "outputId": "4895c4ba-491a-4bb9-a178-2d265f6919be"
      },
      "source": [
        "df.iloc[3][\"Resources\"]"
      ],
      "execution_count": null,
      "outputs": [
        {
          "output_type": "execute_result",
          "data": {
            "text/plain": [
              "[{'@URI': 'http://dbpedia.org/resource/Alone_(Heart_song)',\n",
              "  '@offset': '15',\n",
              "  '@percentageOfSecondRank': '0.40237975532092823',\n",
              "  '@similarityScore': '0.5952799492675273',\n",
              "  '@support': '156',\n",
              "  '@surfaceForm': 'Alone',\n",
              "  '@types': 'Wikidata:Q386724,Wikidata:Q2188189,Schema:MusicRecording,Schema:CreativeWork,DBpedia:Work,DBpedia:MusicalWork,DBpedia:Song'},\n",
              " {'@URI': 'http://dbpedia.org/resource/Viral_video',\n",
              "  '@offset': '27',\n",
              "  '@percentageOfSecondRank': '0.0',\n",
              "  '@similarityScore': '1.0',\n",
              "  '@support': '1765',\n",
              "  '@surfaceForm': 'viral video',\n",
              "  '@types': ''},\n",
              " {'@URI': 'http://dbpedia.org/resource/YouTube',\n",
              "  '@offset': '48',\n",
              "  '@percentageOfSecondRank': '7.123706014659695E-6',\n",
              "  '@similarityScore': '0.9999928763420697',\n",
              "  '@support': '49448',\n",
              "  '@surfaceForm': 'YouTube',\n",
              "  '@types': 'Wikidata:Q386724,Schema:WebSite,Schema:CreativeWork,DBpedia:Work,DBpedia:Website'},\n",
              " {'@URI': 'http://dbpedia.org/resource/Chris_Crocker',\n",
              "  '@offset': '66',\n",
              "  '@percentageOfSecondRank': '1.2876352804796738E-18',\n",
              "  '@similarityScore': '1.0',\n",
              "  '@support': '82',\n",
              "  '@surfaceForm': 'Chris Crocker',\n",
              "  '@types': 'Http://xmlns.com/foaf/0.1/Person,Wikidata:Q5,Wikidata:Q24229398,Wikidata:Q215627,DUL:NaturalPerson,DUL:Agent,Schema:Person,DBpedia:Agent,DBpedia:Person'},\n",
              " {'@URI': 'http://dbpedia.org/resource/Pop_music',\n",
              "  '@offset': '123',\n",
              "  '@percentageOfSecondRank': '0.0011222339258988563',\n",
              "  '@similarityScore': '0.9988103494374357',\n",
              "  '@support': '24318',\n",
              "  '@surfaceForm': 'pop',\n",
              "  '@types': 'Wikidata:Q188451,DUL:Concept,DBpedia:TopicalConcept,DBpedia:Genre,DBpedia:MusicGenre'},\n",
              " {'@URI': 'http://dbpedia.org/resource/Britney_Spears',\n",
              "  '@offset': '132',\n",
              "  '@percentageOfSecondRank': '4.3792165769077124E-9',\n",
              "  '@similarityScore': '0.999999995620783',\n",
              "  '@support': '5048',\n",
              "  '@surfaceForm': 'Britney Spears',\n",
              "  '@types': 'Http://xmlns.com/foaf/0.1/Person,Wikidata:Q5,Wikidata:Q24229398,Wikidata:Q215627,DUL:NaturalPerson,DUL:Agent,Schema:Person,DBpedia:Agent,DBpedia:Person'}]"
            ]
          },
          "metadata": {},
          "execution_count": 10
        }
      ]
    },
    {
      "cell_type": "code",
      "metadata": {
        "id": "dRBDV0VwB5C4"
      },
      "source": [
        "# Resources: @types: unique set of matches' DBpedia and Schema as one hot vectors\n",
        "# phrase2vec cross-correlations between memes @text\n"
      ],
      "execution_count": null,
      "outputs": []
    },
    {
      "cell_type": "code",
      "metadata": {
        "colab": {
          "base_uri": "https://localhost:8080/"
        },
        "id": "EI4fFFRsHSdT",
        "outputId": "a0541701-3886-4448-e905-86f49075c179"
      },
      "source": [
        "def getTypeDict(types):\n",
        "  uniqueTypeList = list(set(j for t in types for j in t.split(\",\")))\n",
        "  tDict = {}\n",
        "  for t in uniqueTypeList:\n",
        "    if \"http:\" in t.lower():\n",
        "      continue \n",
        "    key, value = t.split(\":\")\n",
        "    if key in tDict:\n",
        "      tDict[key].append(value)\n",
        "    else:\n",
        "      tDict[key] = [value]\n",
        "  return tDict\n",
        "\n",
        "def getTypes(row):\n",
        "  if (pd.isna(row)[\"Resources\"]):\n",
        "    return row\n",
        "  types = [x[\"@types\"] for x in row[\"Resources\"] if x[\"@types\"] != \"\"]\n",
        "  uniqueTypeList = list(set(j for t in types for j in t.split(\",\")))\n",
        "  tDict = getTypeDict(types)\n",
        "  if \"DBpedia\" in tDict:\n",
        "    row[\"types_DBpedia\"] = tDict[\"DBpedia\"]\n",
        "  if \"Schema\" in tDict:\n",
        "    row[\"types_Schema\"] = tDict[\"Schema\"]\n",
        "  return row\n",
        "\n",
        "getTypes(df.iloc[3])"
      ],
      "execution_count": null,
      "outputs": [
        {
          "output_type": "execute_result",
          "data": {
            "text/plain": [
              "@text            \"Leave Britney Alone\" is a viral video in whic...\n",
              "Resources        [{'@URI': 'http://dbpedia.org/resource/Alone_(...\n",
              "url              https://knowyourmeme.com/memes/leave-britney-a...\n",
              "types_DBpedia    [Song, Agent, MusicGenre, Work, Person, Musica...\n",
              "types_Schema       [MusicRecording, Person, WebSite, CreativeWork]\n",
              "Name: 3, dtype: object"
            ]
          },
          "metadata": {},
          "execution_count": 11
        }
      ]
    },
    {
      "cell_type": "code",
      "metadata": {
        "id": "8u8g2NcOHRDF"
      },
      "source": [
        "df = df.apply(getTypes, axis=1)\n",
        "df = df.drop(columns=[\"Resources\"])"
      ],
      "execution_count": null,
      "outputs": []
    },
    {
      "cell_type": "code",
      "metadata": {
        "colab": {
          "base_uri": "https://localhost:8080/",
          "height": 363
        },
        "id": "Hueza_gc9-nV",
        "outputId": "d6419853-813b-4fca-e8fb-272376638384"
      },
      "source": [
        "df.head(10)"
      ],
      "execution_count": null,
      "outputs": [
        {
          "output_type": "execute_result",
          "data": {
            "text/html": [
              "<div>\n",
              "<style scoped>\n",
              "    .dataframe tbody tr th:only-of-type {\n",
              "        vertical-align: middle;\n",
              "    }\n",
              "\n",
              "    .dataframe tbody tr th {\n",
              "        vertical-align: top;\n",
              "    }\n",
              "\n",
              "    .dataframe thead th {\n",
              "        text-align: right;\n",
              "    }\n",
              "</style>\n",
              "<table border=\"1\" class=\"dataframe\">\n",
              "  <thead>\n",
              "    <tr style=\"text-align: right;\">\n",
              "      <th></th>\n",
              "      <th>@text</th>\n",
              "      <th>types_DBpedia</th>\n",
              "      <th>types_Schema</th>\n",
              "      <th>url</th>\n",
              "    </tr>\n",
              "  </thead>\n",
              "  <tbody>\n",
              "    <tr>\n",
              "      <th>0</th>\n",
              "      <td>\"This is Relevant To My Interests\" is an expre...</td>\n",
              "      <td>NaN</td>\n",
              "      <td>NaN</td>\n",
              "      <td>https://knowyourmeme.com/memes/this-is-relevan...</td>\n",
              "    </tr>\n",
              "    <tr>\n",
              "      <th>1</th>\n",
              "      <td>ROFLcopter is an Internet slang term used as a...</td>\n",
              "      <td>NaN</td>\n",
              "      <td>NaN</td>\n",
              "      <td>https://knowyourmeme.com/memes/roflcopter</td>\n",
              "    </tr>\n",
              "    <tr>\n",
              "      <th>2</th>\n",
              "      <td>Bitches Don't Know is an exploitable image mac...</td>\n",
              "      <td>[Software, Work]</td>\n",
              "      <td>[CreativeWork]</td>\n",
              "      <td>https://knowyourmeme.com/memes/bitches-dont-know</td>\n",
              "    </tr>\n",
              "    <tr>\n",
              "      <th>3</th>\n",
              "      <td>\"Leave Britney Alone\" is a viral video in whic...</td>\n",
              "      <td>[Song, Agent, MusicGenre, Work, Person, Musica...</td>\n",
              "      <td>[MusicRecording, Person, WebSite, CreativeWork]</td>\n",
              "      <td>https://knowyourmeme.com/memes/leave-britney-a...</td>\n",
              "    </tr>\n",
              "    <tr>\n",
              "      <th>4</th>\n",
              "      <td>O RLY is internet slang for “OH REALLY?” with ...</td>\n",
              "      <td>NaN</td>\n",
              "      <td>NaN</td>\n",
              "      <td>https://knowyourmeme.com/memes/o-rly</td>\n",
              "    </tr>\n",
              "    <tr>\n",
              "      <th>5</th>\n",
              "      <td>\"Yatta!\" is a 2001 parody song by a fictional ...</td>\n",
              "      <td>[Place, Song, ArchitecturalStructure, Work, Lo...</td>\n",
              "      <td>[MusicRecording, CreativeWork, Language, Place]</td>\n",
              "      <td>https://knowyourmeme.com/memes/yatta</td>\n",
              "    </tr>\n",
              "    <tr>\n",
              "      <th>6</th>\n",
              "      <td>In Soviet Russia, also known as the Russian Re...</td>\n",
              "      <td>[Song, Agent, Comedian, Work, Person, MusicalW...</td>\n",
              "      <td>[MusicRecording, Person, CreativeWork]</td>\n",
              "      <td>https://knowyourmeme.com/memes/in-soviet-russia</td>\n",
              "    </tr>\n",
              "    <tr>\n",
              "      <th>7</th>\n",
              "      <td>Domo is a Japanese character often pasted in t...</td>\n",
              "      <td>[Language]</td>\n",
              "      <td>[Language]</td>\n",
              "      <td>https://knowyourmeme.com/memes/domo</td>\n",
              "    </tr>\n",
              "    <tr>\n",
              "      <th>8</th>\n",
              "      <td>\"I Like Turtles\" is a phrase first uttered by ...</td>\n",
              "      <td>[Agent, Place, AdministrativeRegion, Location,...</td>\n",
              "      <td>[Event, AdministrativeArea, MusicGroup, Place,...</td>\n",
              "      <td>https://knowyourmeme.com/memes/i-like-turtles</td>\n",
              "    </tr>\n",
              "    <tr>\n",
              "      <th>9</th>\n",
              "      <td>Diabeetus is an exploitable soundbite based on...</td>\n",
              "      <td>[Place, Location, Agent, PopulatedPlace, Disea...</td>\n",
              "      <td>[Person, Country, Place]</td>\n",
              "      <td>https://knowyourmeme.com/memes/diabeetus</td>\n",
              "    </tr>\n",
              "  </tbody>\n",
              "</table>\n",
              "</div>"
            ],
            "text/plain": [
              "                                               @text  ...                                                url\n",
              "0  \"This is Relevant To My Interests\" is an expre...  ...  https://knowyourmeme.com/memes/this-is-relevan...\n",
              "1  ROFLcopter is an Internet slang term used as a...  ...          https://knowyourmeme.com/memes/roflcopter\n",
              "2  Bitches Don't Know is an exploitable image mac...  ...   https://knowyourmeme.com/memes/bitches-dont-know\n",
              "3  \"Leave Britney Alone\" is a viral video in whic...  ...  https://knowyourmeme.com/memes/leave-britney-a...\n",
              "4  O RLY is internet slang for “OH REALLY?” with ...  ...               https://knowyourmeme.com/memes/o-rly\n",
              "5  \"Yatta!\" is a 2001 parody song by a fictional ...  ...               https://knowyourmeme.com/memes/yatta\n",
              "6  In Soviet Russia, also known as the Russian Re...  ...    https://knowyourmeme.com/memes/in-soviet-russia\n",
              "7  Domo is a Japanese character often pasted in t...  ...                https://knowyourmeme.com/memes/domo\n",
              "8  \"I Like Turtles\" is a phrase first uttered by ...  ...      https://knowyourmeme.com/memes/i-like-turtles\n",
              "9  Diabeetus is an exploitable soundbite based on...  ...           https://knowyourmeme.com/memes/diabeetus\n",
              "\n",
              "[10 rows x 4 columns]"
            ]
          },
          "metadata": {},
          "execution_count": 13
        }
      ]
    },
    {
      "cell_type": "code",
      "metadata": {
        "id": "J9l7jpvXU5CD"
      },
      "source": [
        "from gensim.test.utils import common_texts\n",
        "from gensim.models.doc2vec import Doc2Vec, TaggedDocument\n"
      ],
      "execution_count": null,
      "outputs": []
    },
    {
      "cell_type": "code",
      "metadata": {
        "id": "B0CjOyZVXfmp"
      },
      "source": [
        "documents = [TaggedDocument(doc, [i]) for i, doc in enumerate(common_texts)]\n",
        "model = Doc2Vec(documents, vector_size=8, window=2, min_count=1, workers=4)\n"
      ],
      "execution_count": null,
      "outputs": []
    },
    {
      "cell_type": "code",
      "metadata": {
        "id": "NU7k8Mh-XicB"
      },
      "source": [
        "from gensim.test.utils import get_tmpfile\n",
        "\n",
        "fname = get_tmpfile(\"doc2vec_model\")\n",
        "\n",
        "model.save(fname)\n",
        "model = Doc2Vec.load(fname)  # you can continue training with the loaded model!\n"
      ],
      "execution_count": null,
      "outputs": []
    },
    {
      "cell_type": "code",
      "metadata": {
        "colab": {
          "base_uri": "https://localhost:8080/"
        },
        "id": "VORURoq7XnLx",
        "outputId": "776a5e09-4b2e-42b6-dba6-8dca1cc8bbe5"
      },
      "source": [
        "model"
      ],
      "execution_count": null,
      "outputs": [
        {
          "output_type": "execute_result",
          "data": {
            "text/plain": [
              "<gensim.models.doc2vec.Doc2Vec at 0x7fbfdd1bd110>"
            ]
          },
          "metadata": {},
          "execution_count": 142
        }
      ]
    },
    {
      "cell_type": "code",
      "metadata": {
        "id": "pqGBuRBabHOe"
      },
      "source": [
        "def getVector(row):\n",
        "  words = row[\"@text\"].lower().split(\" \")\n",
        "  words = [''.join(filter(str.isalpha, word)) for word in words]\n",
        "  vector = model.infer_vector(words)\n",
        "  row[\"doc2vec\"] = vector\n",
        "  return row"
      ],
      "execution_count": null,
      "outputs": []
    },
    {
      "cell_type": "code",
      "metadata": {
        "id": "XwcZFuo3bSD1"
      },
      "source": [
        "df = df.apply(getVector, axis=1)"
      ],
      "execution_count": null,
      "outputs": []
    },
    {
      "cell_type": "code",
      "metadata": {
        "colab": {
          "base_uri": "https://localhost:8080/"
        },
        "id": "Gc04zjq8cVCD",
        "outputId": "1907651e-c37f-4daf-d680-45a1ec12acb2"
      },
      "source": [
        "vec1 = df.iloc[3][\"doc2vec\"]\n",
        "vec2 = df.iloc[4][\"doc2vec\"]\n",
        "print(vec1, vec2)\n",
        "dist = np.linalg.norm(vec1-vec2)\n",
        "print(dist)"
      ],
      "execution_count": null,
      "outputs": [
        {
          "output_type": "stream",
          "name": "stdout",
          "text": [
            "[ 0.08039264  0.07167017 -0.02908351 -0.03511304  0.09431612] [ 0.09286018  0.02714852  0.08155558 -0.09250014 -0.03469218]\n",
            "0.1852432\n"
          ]
        }
      ]
    },
    {
      "cell_type": "code",
      "metadata": {
        "id": "E_1GsZzSd0Q9"
      },
      "source": [
        "vector_series = df[\"doc2vec\"]"
      ],
      "execution_count": null,
      "outputs": []
    },
    {
      "cell_type": "code",
      "metadata": {
        "id": "-DJmFW6_eJ8L"
      },
      "source": [
        "def distFun(vec1, vec2):\n",
        "  return np.linalg.norm(vec1-vec2)"
      ],
      "execution_count": null,
      "outputs": []
    },
    {
      "cell_type": "code",
      "metadata": {
        "id": "3GunYtr1e1a7"
      },
      "source": [
        "from itertools import combinations"
      ],
      "execution_count": null,
      "outputs": []
    },
    {
      "cell_type": "code",
      "metadata": {
        "id": "rbdvmymKewPa"
      },
      "source": [
        "combs = list(combinations(df.index.tolist(),2))"
      ],
      "execution_count": null,
      "outputs": []
    },
    {
      "cell_type": "code",
      "metadata": {
        "id": "wEsH5amye9ae"
      },
      "source": [
        "mat = np.zeros((df.index.size, df.index.size))"
      ],
      "execution_count": null,
      "outputs": []
    },
    {
      "cell_type": "code",
      "metadata": {
        "id": "rG5qDlDke8bM"
      },
      "source": [
        "for comb in combinations(df.index.tolist(),2):\n",
        "  mat[comb[0], comb[1]] = distFun(df.loc[comb[0],\"doc2vec\"], df.loc[comb[1], \"doc2vec\"])"
      ],
      "execution_count": null,
      "outputs": []
    },
    {
      "cell_type": "code",
      "metadata": {
        "id": "jNVbgyzWf0CD"
      },
      "source": [
        "import seaborn as sns"
      ],
      "execution_count": null,
      "outputs": []
    },
    {
      "cell_type": "code",
      "metadata": {
        "colab": {
          "base_uri": "https://localhost:8080/",
          "height": 955
        },
        "id": "HMKCL5cqjtKH",
        "outputId": "86f8d2c2-f834-4a85-b531-7c6245dd963d"
      },
      "source": [
        "plt.rcParams[\"figure.figsize\"] = (16,16)\n",
        "newmat = np.where(mat == 0, mat.max(), mat)\n",
        "sns.heatmap(newmat[:20, :20])\n",
        "plt.xticks(np.arange(0.5, 20.5, 1), [x[:20] for x in df.loc[:20,\"@text\"]], rotation=45, rotation_mode=\"anchor\")\n",
        "plt.yticks(np.arange(0.5, 20.5, 1), [x[:20] for x in df.loc[:20,\"@text\"]], rotation=0)\n",
        "plt.show()"
      ],
      "execution_count": null,
      "outputs": [
        {
          "output_type": "display_data",
          "data": {
            "image/png": "[encoded data removed]",
            "text/plain": [
              "<Figure size 1152x1152 with 2 Axes>"
            ]
          },
          "metadata": {
            "needs_background": "light"
          }
        }
      ]
    },
    {
      "cell_type": "code",
      "metadata": {
        "colab": {
          "base_uri": "https://localhost:8080/"
        },
        "id": "DT_W94DGkGhV",
        "outputId": "e72d1240-4832-4475-f7d6-f2fbfa886694"
      },
      "source": [
        "minidx1, minidx2 = np.unravel_index(np.argmin(newmat), newmat.shape)\n",
        "print(\"Minimum distance:\", newmat.min())"
      ],
      "execution_count": null,
      "outputs": [
        {
          "output_type": "stream",
          "name": "stdout",
          "text": [
            "Minimum distance: 0.004370582289993763\n"
          ]
        }
      ]
    },
    {
      "cell_type": "code",
      "metadata": {
        "colab": {
          "base_uri": "https://localhost:8080/"
        },
        "id": "NFKO0Js7nGe9",
        "outputId": "ff5d9983-f61a-438d-b79a-502d0727fba6"
      },
      "source": [
        "maxidx1, maxidx2 = np.unravel_index(np.argmax(mat), mat.shape)\n",
        "print(\"Maximum distance:\", mat.max())"
      ],
      "execution_count": null,
      "outputs": [
        {
          "output_type": "stream",
          "name": "stdout",
          "text": [
            "Maximum distance: 0.3999771773815155\n"
          ]
        }
      ]
    },
    {
      "cell_type": "code",
      "metadata": {
        "colab": {
          "base_uri": "https://localhost:8080/"
        },
        "id": "fwANTrzHmyKS",
        "outputId": "96ea89c5-9ac2-47bb-e830-b5ee74991dc7"
      },
      "source": [
        "print(df.loc[minidx1, \"@text\"], \"\\n\", df.loc[minidx2, \"@text\"])"
      ],
      "execution_count": null,
      "outputs": [
        {
          "output_type": "stream",
          "name": "stdout",
          "text": [
            "Life Hacks are tricks, skills or shortcuts that are meant to increase a person's productivity or efficiency in their everyday lives. \n",
            " Jasper Falling is a popular video remixes of the character Jasper from _Steven Universe falling into a crack.\n"
          ]
        }
      ]
    },
    {
      "cell_type": "code",
      "metadata": {
        "colab": {
          "base_uri": "https://localhost:8080/"
        },
        "id": "lnTTPtPAnVYC",
        "outputId": "33bcc9c7-79d6-453f-b270-8a5bcbafe2b3"
      },
      "source": [
        "print(df.loc[maxidx1, \"@text\"], \"\\n\", df.loc[maxidx2, \"@text\"])"
      ],
      "execution_count": null,
      "outputs": [
        {
          "output_type": "stream",
          "name": "stdout",
          "text": [
            "Beyonce Reading Menu refers to a series of image macros using a photo from singer Beyonce's Instagram of her reading off a restaurant menu to a server. The meme became popular on Twitter, where people captioned what they imagined Beyonce said to the server. \n",
            " \"Ramirez, Do Everything!\" is a catchphrase and image macro series referencing a character from the first-person shooter video game Call of Duty: Modern Warfare 2. Image macros typically feature a centered picture of Sergeant Foley, a non-playable character in the game, with the word \"RAMIREZ!\" on the top line, and an order of some kind on the bottom line.\n"
          ]
        }
      ]
    },
    {
      "cell_type": "code",
      "metadata": {
        "id": "qI001kQFnbgJ"
      },
      "source": [
        "df.to_parquet(\"/content/drive/My Drive/dataEngProject/kym_spotlight_processed.parquet\")"
      ],
      "execution_count": null,
      "outputs": []
    }
  ]
}